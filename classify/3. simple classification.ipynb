{
 "cells": [
  {
   "cell_type": "code",
   "execution_count": 1,
   "metadata": {},
   "outputs": [
    {
     "name": "stderr",
     "output_type": "stream",
     "text": [
      "Using TensorFlow backend.\n"
     ]
    }
   ],
   "source": [
    "import os,sys\n",
    "\n",
    "import pandas as pd\n",
    "import numpy as np\n",
    "import keras\n",
    "import tensorflow as tf\n",
    "from keras.models import Sequential\n",
    "from keras.layers import Dense, Dropout\n",
    "import keras.utils\n",
    "import matplotlib.pyplot as plt\n",
    "from sklearn.model_selection import train_test_split\n",
    "from sklearn import metrics"
   ]
  },
  {
   "cell_type": "code",
   "execution_count": 2,
   "metadata": {},
   "outputs": [
    {
     "name": "stdout",
     "output_type": "stream",
     "text": [
      "(15965, 19103)\n"
     ]
    },
    {
     "data": {
      "text/html": [
       "<div>\n",
       "<style scoped>\n",
       "    .dataframe tbody tr th:only-of-type {\n",
       "        vertical-align: middle;\n",
       "    }\n",
       "\n",
       "    .dataframe tbody tr th {\n",
       "        vertical-align: top;\n",
       "    }\n",
       "\n",
       "    .dataframe thead th {\n",
       "        text-align: right;\n",
       "    }\n",
       "</style>\n",
       "<table border=\"1\" class=\"dataframe\">\n",
       "  <thead>\n",
       "    <tr style=\"text-align: right;\">\n",
       "      <th></th>\n",
       "      <th>Unnamed: 0</th>\n",
       "      <th>RAB4B</th>\n",
       "      <th>TIGAR</th>\n",
       "      <th>RNF44</th>\n",
       "      <th>DNAH3</th>\n",
       "      <th>RPL23A</th>\n",
       "      <th>ARL8B</th>\n",
       "      <th>CALB2</th>\n",
       "      <th>MFSD3</th>\n",
       "      <th>PIGV</th>\n",
       "      <th>...</th>\n",
       "      <th>SLCO4C1</th>\n",
       "      <th>ARHGAP21</th>\n",
       "      <th>DDX47</th>\n",
       "      <th>POMZP3</th>\n",
       "      <th>SDS</th>\n",
       "      <th>TENM1</th>\n",
       "      <th>CYP4F2</th>\n",
       "      <th>PPP6R1</th>\n",
       "      <th>BATF3</th>\n",
       "      <th>OR8D4</th>\n",
       "    </tr>\n",
       "  </thead>\n",
       "  <tbody>\n",
       "    <tr>\n",
       "      <th>0</th>\n",
       "      <td>Liver.1</td>\n",
       "      <td>2.367912</td>\n",
       "      <td>0.698684</td>\n",
       "      <td>3.931116</td>\n",
       "      <td>0.000000</td>\n",
       "      <td>116.288461</td>\n",
       "      <td>13.839265</td>\n",
       "      <td>0.021383</td>\n",
       "      <td>14.722173</td>\n",
       "      <td>5.437620</td>\n",
       "      <td>...</td>\n",
       "      <td>0.000000</td>\n",
       "      <td>1.199607</td>\n",
       "      <td>0.101155</td>\n",
       "      <td>1.428458</td>\n",
       "      <td>2.471339</td>\n",
       "      <td>0.042357</td>\n",
       "      <td>44.610061</td>\n",
       "      <td>6.394772</td>\n",
       "      <td>0.281878</td>\n",
       "      <td>0.0</td>\n",
       "    </tr>\n",
       "    <tr>\n",
       "      <th>1</th>\n",
       "      <td>Kidney.1</td>\n",
       "      <td>26.299800</td>\n",
       "      <td>2.498500</td>\n",
       "      <td>0.255600</td>\n",
       "      <td>14.944300</td>\n",
       "      <td>2.049600</td>\n",
       "      <td>3.262300</td>\n",
       "      <td>0.146400</td>\n",
       "      <td>14.132900</td>\n",
       "      <td>3.323600</td>\n",
       "      <td>...</td>\n",
       "      <td>0.000000</td>\n",
       "      <td>0.000000</td>\n",
       "      <td>0.000000</td>\n",
       "      <td>0.000000</td>\n",
       "      <td>0.000000</td>\n",
       "      <td>0.000000</td>\n",
       "      <td>0.000000</td>\n",
       "      <td>0.000000</td>\n",
       "      <td>0.000000</td>\n",
       "      <td>0.0</td>\n",
       "    </tr>\n",
       "    <tr>\n",
       "      <th>2</th>\n",
       "      <td>Prostate.1</td>\n",
       "      <td>5.592506</td>\n",
       "      <td>2.953563</td>\n",
       "      <td>7.065690</td>\n",
       "      <td>0.012499</td>\n",
       "      <td>325.521932</td>\n",
       "      <td>22.144552</td>\n",
       "      <td>0.356845</td>\n",
       "      <td>28.899361</td>\n",
       "      <td>6.717593</td>\n",
       "      <td>...</td>\n",
       "      <td>0.030674</td>\n",
       "      <td>2.062158</td>\n",
       "      <td>0.185503</td>\n",
       "      <td>8.414909</td>\n",
       "      <td>2.690346</td>\n",
       "      <td>0.688731</td>\n",
       "      <td>0.260365</td>\n",
       "      <td>9.792451</td>\n",
       "      <td>1.671371</td>\n",
       "      <td>0.0</td>\n",
       "    </tr>\n",
       "    <tr>\n",
       "      <th>3</th>\n",
       "      <td>Kidney.2</td>\n",
       "      <td>21.554200</td>\n",
       "      <td>1.334700</td>\n",
       "      <td>1.095300</td>\n",
       "      <td>23.476800</td>\n",
       "      <td>8.741300</td>\n",
       "      <td>11.491700</td>\n",
       "      <td>0.945500</td>\n",
       "      <td>32.975700</td>\n",
       "      <td>6.187900</td>\n",
       "      <td>...</td>\n",
       "      <td>0.000000</td>\n",
       "      <td>0.000000</td>\n",
       "      <td>0.000000</td>\n",
       "      <td>0.000000</td>\n",
       "      <td>0.000000</td>\n",
       "      <td>0.000000</td>\n",
       "      <td>0.000000</td>\n",
       "      <td>0.000000</td>\n",
       "      <td>0.000000</td>\n",
       "      <td>0.0</td>\n",
       "    </tr>\n",
       "    <tr>\n",
       "      <th>4</th>\n",
       "      <td>Kidney.3</td>\n",
       "      <td>22.820100</td>\n",
       "      <td>2.640900</td>\n",
       "      <td>3.750800</td>\n",
       "      <td>29.774900</td>\n",
       "      <td>7.595200</td>\n",
       "      <td>15.186900</td>\n",
       "      <td>0.482000</td>\n",
       "      <td>19.233800</td>\n",
       "      <td>8.741800</td>\n",
       "      <td>...</td>\n",
       "      <td>0.000000</td>\n",
       "      <td>0.000000</td>\n",
       "      <td>0.000000</td>\n",
       "      <td>0.000000</td>\n",
       "      <td>0.000000</td>\n",
       "      <td>0.000000</td>\n",
       "      <td>0.000000</td>\n",
       "      <td>0.000000</td>\n",
       "      <td>0.000000</td>\n",
       "      <td>0.0</td>\n",
       "    </tr>\n",
       "  </tbody>\n",
       "</table>\n",
       "<p>5 rows × 19103 columns</p>\n",
       "</div>"
      ],
      "text/plain": [
       "   Unnamed: 0      RAB4B     TIGAR     RNF44      DNAH3      RPL23A  \\\n",
       "0     Liver.1   2.367912  0.698684  3.931116   0.000000  116.288461   \n",
       "1    Kidney.1  26.299800  2.498500  0.255600  14.944300    2.049600   \n",
       "2  Prostate.1   5.592506  2.953563  7.065690   0.012499  325.521932   \n",
       "3    Kidney.2  21.554200  1.334700  1.095300  23.476800    8.741300   \n",
       "4    Kidney.3  22.820100  2.640900  3.750800  29.774900    7.595200   \n",
       "\n",
       "       ARL8B     CALB2      MFSD3      PIGV  ...   SLCO4C1  ARHGAP21  \\\n",
       "0  13.839265  0.021383  14.722173  5.437620  ...  0.000000  1.199607   \n",
       "1   3.262300  0.146400  14.132900  3.323600  ...  0.000000  0.000000   \n",
       "2  22.144552  0.356845  28.899361  6.717593  ...  0.030674  2.062158   \n",
       "3  11.491700  0.945500  32.975700  6.187900  ...  0.000000  0.000000   \n",
       "4  15.186900  0.482000  19.233800  8.741800  ...  0.000000  0.000000   \n",
       "\n",
       "      DDX47    POMZP3       SDS     TENM1     CYP4F2    PPP6R1     BATF3  \\\n",
       "0  0.101155  1.428458  2.471339  0.042357  44.610061  6.394772  0.281878   \n",
       "1  0.000000  0.000000  0.000000  0.000000   0.000000  0.000000  0.000000   \n",
       "2  0.185503  8.414909  2.690346  0.688731   0.260365  9.792451  1.671371   \n",
       "3  0.000000  0.000000  0.000000  0.000000   0.000000  0.000000  0.000000   \n",
       "4  0.000000  0.000000  0.000000  0.000000   0.000000  0.000000  0.000000   \n",
       "\n",
       "   OR8D4  \n",
       "0    0.0  \n",
       "1    0.0  \n",
       "2    0.0  \n",
       "3    0.0  \n",
       "4    0.0  \n",
       "\n",
       "[5 rows x 19103 columns]"
      ]
     },
     "execution_count": 2,
     "metadata": {},
     "output_type": "execute_result"
    }
   ],
   "source": [
    "df = pd.read_csv(\"../data/exT.csv\",low_memory=False)\n",
    "print(df.shape)\n",
    "df.head()"
   ]
  },
  {
   "cell_type": "code",
   "execution_count": 3,
   "metadata": {},
   "outputs": [
    {
     "name": "stdout",
     "output_type": "stream",
     "text": [
      "<class 'pandas.core.frame.DataFrame'>\n",
      "RangeIndex: 15965 entries, 0 to 15964\n",
      "Columns: 19103 entries, Unnamed: 0 to OR8D4\n",
      "dtypes: float64(19099), int64(3), object(1)\n",
      "memory usage: 2.3+ GB\n"
     ]
    }
   ],
   "source": [
    "df.info(verbose = False)"
   ]
  },
  {
   "cell_type": "code",
   "execution_count": 4,
   "metadata": {},
   "outputs": [
    {
     "data": {
      "text/html": [
       "<div>\n",
       "<style scoped>\n",
       "    .dataframe tbody tr th:only-of-type {\n",
       "        vertical-align: middle;\n",
       "    }\n",
       "\n",
       "    .dataframe tbody tr th {\n",
       "        vertical-align: top;\n",
       "    }\n",
       "\n",
       "    .dataframe thead th {\n",
       "        text-align: right;\n",
       "    }\n",
       "</style>\n",
       "<table border=\"1\" class=\"dataframe\">\n",
       "  <thead>\n",
       "    <tr style=\"text-align: right;\">\n",
       "      <th></th>\n",
       "      <th>labels</th>\n",
       "      <th>RAB4B</th>\n",
       "      <th>TIGAR</th>\n",
       "      <th>RNF44</th>\n",
       "      <th>DNAH3</th>\n",
       "      <th>RPL23A</th>\n",
       "      <th>ARL8B</th>\n",
       "      <th>CALB2</th>\n",
       "      <th>MFSD3</th>\n",
       "      <th>PIGV</th>\n",
       "      <th>...</th>\n",
       "      <th>SLCO4C1</th>\n",
       "      <th>ARHGAP21</th>\n",
       "      <th>DDX47</th>\n",
       "      <th>POMZP3</th>\n",
       "      <th>SDS</th>\n",
       "      <th>TENM1</th>\n",
       "      <th>CYP4F2</th>\n",
       "      <th>PPP6R1</th>\n",
       "      <th>BATF3</th>\n",
       "      <th>OR8D4</th>\n",
       "    </tr>\n",
       "  </thead>\n",
       "  <tbody>\n",
       "    <tr>\n",
       "      <th>0</th>\n",
       "      <td>Liver.1</td>\n",
       "      <td>2.367912</td>\n",
       "      <td>0.698684</td>\n",
       "      <td>3.931116</td>\n",
       "      <td>0.000000</td>\n",
       "      <td>116.288461</td>\n",
       "      <td>13.839265</td>\n",
       "      <td>0.021383</td>\n",
       "      <td>14.722173</td>\n",
       "      <td>5.437620</td>\n",
       "      <td>...</td>\n",
       "      <td>0.000000</td>\n",
       "      <td>1.199607</td>\n",
       "      <td>0.101155</td>\n",
       "      <td>1.428458</td>\n",
       "      <td>2.471339</td>\n",
       "      <td>0.042357</td>\n",
       "      <td>44.610061</td>\n",
       "      <td>6.394772</td>\n",
       "      <td>0.281878</td>\n",
       "      <td>0.0</td>\n",
       "    </tr>\n",
       "    <tr>\n",
       "      <th>1</th>\n",
       "      <td>Kidney.1</td>\n",
       "      <td>26.299800</td>\n",
       "      <td>2.498500</td>\n",
       "      <td>0.255600</td>\n",
       "      <td>14.944300</td>\n",
       "      <td>2.049600</td>\n",
       "      <td>3.262300</td>\n",
       "      <td>0.146400</td>\n",
       "      <td>14.132900</td>\n",
       "      <td>3.323600</td>\n",
       "      <td>...</td>\n",
       "      <td>0.000000</td>\n",
       "      <td>0.000000</td>\n",
       "      <td>0.000000</td>\n",
       "      <td>0.000000</td>\n",
       "      <td>0.000000</td>\n",
       "      <td>0.000000</td>\n",
       "      <td>0.000000</td>\n",
       "      <td>0.000000</td>\n",
       "      <td>0.000000</td>\n",
       "      <td>0.0</td>\n",
       "    </tr>\n",
       "    <tr>\n",
       "      <th>2</th>\n",
       "      <td>Prostate.1</td>\n",
       "      <td>5.592506</td>\n",
       "      <td>2.953563</td>\n",
       "      <td>7.065690</td>\n",
       "      <td>0.012499</td>\n",
       "      <td>325.521932</td>\n",
       "      <td>22.144552</td>\n",
       "      <td>0.356845</td>\n",
       "      <td>28.899361</td>\n",
       "      <td>6.717593</td>\n",
       "      <td>...</td>\n",
       "      <td>0.030674</td>\n",
       "      <td>2.062158</td>\n",
       "      <td>0.185503</td>\n",
       "      <td>8.414909</td>\n",
       "      <td>2.690346</td>\n",
       "      <td>0.688731</td>\n",
       "      <td>0.260365</td>\n",
       "      <td>9.792451</td>\n",
       "      <td>1.671371</td>\n",
       "      <td>0.0</td>\n",
       "    </tr>\n",
       "    <tr>\n",
       "      <th>3</th>\n",
       "      <td>Kidney.2</td>\n",
       "      <td>21.554200</td>\n",
       "      <td>1.334700</td>\n",
       "      <td>1.095300</td>\n",
       "      <td>23.476800</td>\n",
       "      <td>8.741300</td>\n",
       "      <td>11.491700</td>\n",
       "      <td>0.945500</td>\n",
       "      <td>32.975700</td>\n",
       "      <td>6.187900</td>\n",
       "      <td>...</td>\n",
       "      <td>0.000000</td>\n",
       "      <td>0.000000</td>\n",
       "      <td>0.000000</td>\n",
       "      <td>0.000000</td>\n",
       "      <td>0.000000</td>\n",
       "      <td>0.000000</td>\n",
       "      <td>0.000000</td>\n",
       "      <td>0.000000</td>\n",
       "      <td>0.000000</td>\n",
       "      <td>0.0</td>\n",
       "    </tr>\n",
       "    <tr>\n",
       "      <th>4</th>\n",
       "      <td>Kidney.3</td>\n",
       "      <td>22.820100</td>\n",
       "      <td>2.640900</td>\n",
       "      <td>3.750800</td>\n",
       "      <td>29.774900</td>\n",
       "      <td>7.595200</td>\n",
       "      <td>15.186900</td>\n",
       "      <td>0.482000</td>\n",
       "      <td>19.233800</td>\n",
       "      <td>8.741800</td>\n",
       "      <td>...</td>\n",
       "      <td>0.000000</td>\n",
       "      <td>0.000000</td>\n",
       "      <td>0.000000</td>\n",
       "      <td>0.000000</td>\n",
       "      <td>0.000000</td>\n",
       "      <td>0.000000</td>\n",
       "      <td>0.000000</td>\n",
       "      <td>0.000000</td>\n",
       "      <td>0.000000</td>\n",
       "      <td>0.0</td>\n",
       "    </tr>\n",
       "  </tbody>\n",
       "</table>\n",
       "<p>5 rows × 19103 columns</p>\n",
       "</div>"
      ],
      "text/plain": [
       "       labels      RAB4B     TIGAR     RNF44      DNAH3      RPL23A  \\\n",
       "0     Liver.1   2.367912  0.698684  3.931116   0.000000  116.288461   \n",
       "1    Kidney.1  26.299800  2.498500  0.255600  14.944300    2.049600   \n",
       "2  Prostate.1   5.592506  2.953563  7.065690   0.012499  325.521932   \n",
       "3    Kidney.2  21.554200  1.334700  1.095300  23.476800    8.741300   \n",
       "4    Kidney.3  22.820100  2.640900  3.750800  29.774900    7.595200   \n",
       "\n",
       "       ARL8B     CALB2      MFSD3      PIGV  ...   SLCO4C1  ARHGAP21  \\\n",
       "0  13.839265  0.021383  14.722173  5.437620  ...  0.000000  1.199607   \n",
       "1   3.262300  0.146400  14.132900  3.323600  ...  0.000000  0.000000   \n",
       "2  22.144552  0.356845  28.899361  6.717593  ...  0.030674  2.062158   \n",
       "3  11.491700  0.945500  32.975700  6.187900  ...  0.000000  0.000000   \n",
       "4  15.186900  0.482000  19.233800  8.741800  ...  0.000000  0.000000   \n",
       "\n",
       "      DDX47    POMZP3       SDS     TENM1     CYP4F2    PPP6R1     BATF3  \\\n",
       "0  0.101155  1.428458  2.471339  0.042357  44.610061  6.394772  0.281878   \n",
       "1  0.000000  0.000000  0.000000  0.000000   0.000000  0.000000  0.000000   \n",
       "2  0.185503  8.414909  2.690346  0.688731   0.260365  9.792451  1.671371   \n",
       "3  0.000000  0.000000  0.000000  0.000000   0.000000  0.000000  0.000000   \n",
       "4  0.000000  0.000000  0.000000  0.000000   0.000000  0.000000  0.000000   \n",
       "\n",
       "   OR8D4  \n",
       "0    0.0  \n",
       "1    0.0  \n",
       "2    0.0  \n",
       "3    0.0  \n",
       "4    0.0  \n",
       "\n",
       "[5 rows x 19103 columns]"
      ]
     },
     "execution_count": 4,
     "metadata": {},
     "output_type": "execute_result"
    }
   ],
   "source": [
    "df = df.rename(columns={'Unnamed: 0':'labels'})\n",
    "df.head()"
   ]
  },
  {
   "cell_type": "code",
   "execution_count": 5,
   "metadata": {},
   "outputs": [],
   "source": [
    "# df.describe() # not so helpful because of 19k features"
   ]
  },
  {
   "cell_type": "code",
   "execution_count": 6,
   "metadata": {},
   "outputs": [
    {
     "data": {
      "text/plain": [
       "0.0"
      ]
     },
     "execution_count": 6,
     "metadata": {},
     "output_type": "execute_result"
    }
   ],
   "source": [
    "df.isna().sum().sum()/ len(df) * 100 # check for NaNs, If any.."
   ]
  },
  {
   "cell_type": "code",
   "execution_count": 7,
   "metadata": {},
   "outputs": [
    {
     "data": {
      "text/plain": [
       "0       Liver\n",
       "1      Kidney\n",
       "2    Prostate\n",
       "3      Kidney\n",
       "4      Kidney\n",
       "Name: Y, dtype: object"
      ]
     },
     "execution_count": 7,
     "metadata": {},
     "output_type": "execute_result"
    }
   ],
   "source": [
    "df['Y'] = df['labels'].apply(lambda x: x.split(\".\")[0])\n",
    "df['Y'].head()"
   ]
  },
  {
   "cell_type": "code",
   "execution_count": 8,
   "metadata": {},
   "outputs": [
    {
     "data": {
      "text/plain": [
       "<matplotlib.axes._subplots.AxesSubplot at 0x7f33e3108be0>"
      ]
     },
     "execution_count": 8,
     "metadata": {},
     "output_type": "execute_result"
    },
    {
     "data": {
      "image/png": "[encoded data removed]",
      "text/plain": [
       "<Figure size 720x432 with 1 Axes>"
      ]
     },
     "metadata": {
      "needs_background": "light"
     },
     "output_type": "display_data"
    }
   ],
   "source": [
    "df['Y'].value_counts().plot(kind='barh', figsize = (10,6))"
   ]
  },
  {
   "cell_type": "markdown",
   "metadata": {},
   "source": [
    "Looks like the dataset is extremely imbalanced. Might have to do do something for it. "
   ]
  },
  {
   "cell_type": "markdown",
   "metadata": {},
   "source": [
    "I tried to visualize these values as well.\n",
    "Figure below shows the boxplots for two of these features."
   ]
  },
  {
   "cell_type": "code",
   "execution_count": 9,
   "metadata": {},
   "outputs": [
    {
     "data": {
      "text/plain": [
       "(0, 250)"
      ]
     },
     "execution_count": 9,
     "metadata": {},
     "output_type": "execute_result"
    },
    {
     "data": {
      "image/png": "[encoded data removed]",
      "text/plain": [
       "<Figure size 432x288 with 1 Axes>"
      ]
     },
     "metadata": {
      "needs_background": "light"
     },
     "output_type": "display_data"
    }
   ],
   "source": [
    "import seaborn as sns\n",
    "sns.boxplot(df['TIGAR'], whis= 3)\n",
    "plt.xlim(0, 250)"
   ]
  },
  {
   "cell_type": "code",
   "execution_count": 10,
   "metadata": {},
   "outputs": [
    {
     "data": {
      "text/plain": [
       "(0, 250)"
      ]
     },
     "execution_count": 10,
     "metadata": {},
     "output_type": "execute_result"
    },
    {
     "data": {
      "image/png": "[encoded data removed]",
      "text/plain": [
       "<Figure size 432x288 with 1 Axes>"
      ]
     },
     "metadata": {
      "needs_background": "light"
     },
     "output_type": "display_data"
    }
   ],
   "source": [
    "import seaborn as sns\n",
    "sns.boxplot(df['RAB4B'], whis= 3)\n",
    "plt.xlim(0, 250)"
   ]
  },
  {
   "cell_type": "markdown",
   "metadata": {},
   "source": [
    "There are some outliers, but not sure we need to remove them for classifier to improve its robustness or use just as it is since this is Gene's data. \n",
    "Also since we are more concerned on the determination of classification, I'd say we can get away with this since it performed satisfactorily."
   ]
  },
  {
   "cell_type": "markdown",
   "metadata": {},
   "source": [
    "### Label Encoding the categorical variable Y"
   ]
  },
  {
   "cell_type": "code",
   "execution_count": 11,
   "metadata": {},
   "outputs": [
    {
     "data": {
      "text/plain": [
       "0    13\n",
       "1    11\n",
       "2    24\n",
       "3    11\n",
       "4    11\n",
       "Name: Y, dtype: int64"
      ]
     },
     "execution_count": 11,
     "metadata": {},
     "output_type": "execute_result"
    }
   ],
   "source": [
    "from sklearn.preprocessing import LabelEncoder, OneHotEncoder\n",
    "label_encoder = LabelEncoder()\n",
    "\n",
    "df['Y'] = label_encoder.fit_transform(df['Y'])\n",
    "df['Y'].head()"
   ]
  },
  {
   "cell_type": "code",
   "execution_count": 12,
   "metadata": {},
   "outputs": [
    {
     "name": "stdout",
     "output_type": "stream",
     "text": [
      "34\n"
     ]
    },
    {
     "data": {
      "text/plain": [
       "array(['Adrenal', 'Bile', 'Bladder', 'Bone', 'Brain', 'Breast', 'Cervix',\n",
       "       'Colon', 'Esophagus', 'Fallopian', 'Head', 'Kidney', 'Leukemia',\n",
       "       'Liver', 'Lung', 'Lymph', 'Mediastinum', 'Nervous', 'Ocular',\n",
       "       'Ovarian', 'Pancreas', 'Pelvis', 'Peritoneum', 'Pleura',\n",
       "       'Prostate', 'Rectum', 'Sarcoma', 'Skin', 'Stomach', 'Testis',\n",
       "       'Thymus', 'Thyroid', 'Uterus', 'none'], dtype=object)"
      ]
     },
     "execution_count": 12,
     "metadata": {},
     "output_type": "execute_result"
    }
   ],
   "source": [
    "print(len(label_encoder.classes_))\n",
    "label_encoder.classes_"
   ]
  },
  {
   "cell_type": "code",
   "execution_count": 13,
   "metadata": {},
   "outputs": [],
   "source": [
    "labels = df.pop(\"labels\")\n",
    "Y = df.pop(\"Y\")"
   ]
  },
  {
   "cell_type": "code",
   "execution_count": 14,
   "metadata": {},
   "outputs": [
    {
     "data": {
      "text/plain": [
       "0    13\n",
       "1    11\n",
       "2    24\n",
       "3    11\n",
       "4    11\n",
       "Name: Y, dtype: int64"
      ]
     },
     "execution_count": 14,
     "metadata": {},
     "output_type": "execute_result"
    }
   ],
   "source": [
    "Y.head()"
   ]
  },
  {
   "cell_type": "markdown",
   "metadata": {},
   "source": [
    "### Converting Y into 1-hot"
   ]
  },
  {
   "cell_type": "code",
   "execution_count": 15,
   "metadata": {},
   "outputs": [
    {
     "data": {
      "text/plain": [
       "array([[0., 0., 0., ..., 0., 0., 0.],\n",
       "       [0., 0., 0., ..., 0., 0., 0.],\n",
       "       [0., 0., 0., ..., 0., 0., 0.],\n",
       "       ...,\n",
       "       [0., 0., 0., ..., 0., 0., 0.],\n",
       "       [0., 0., 0., ..., 0., 0., 0.],\n",
       "       [0., 0., 0., ..., 1., 0., 0.]], dtype=float32)"
      ]
     },
     "execution_count": 15,
     "metadata": {},
     "output_type": "execute_result"
    }
   ],
   "source": [
    "Y = keras.utils.to_categorical(Y)\n",
    "Y"
   ]
  },
  {
   "cell_type": "code",
   "execution_count": 16,
   "metadata": {},
   "outputs": [
    {
     "data": {
      "text/html": [
       "<div>\n",
       "<style scoped>\n",
       "    .dataframe tbody tr th:only-of-type {\n",
       "        vertical-align: middle;\n",
       "    }\n",
       "\n",
       "    .dataframe tbody tr th {\n",
       "        vertical-align: top;\n",
       "    }\n",
       "\n",
       "    .dataframe thead th {\n",
       "        text-align: right;\n",
       "    }\n",
       "</style>\n",
       "<table border=\"1\" class=\"dataframe\">\n",
       "  <thead>\n",
       "    <tr style=\"text-align: right;\">\n",
       "      <th></th>\n",
       "      <th>RAB4B</th>\n",
       "      <th>TIGAR</th>\n",
       "      <th>RNF44</th>\n",
       "      <th>DNAH3</th>\n",
       "      <th>RPL23A</th>\n",
       "      <th>ARL8B</th>\n",
       "      <th>CALB2</th>\n",
       "      <th>MFSD3</th>\n",
       "      <th>PIGV</th>\n",
       "      <th>ZNF708</th>\n",
       "      <th>...</th>\n",
       "      <th>SLCO4C1</th>\n",
       "      <th>ARHGAP21</th>\n",
       "      <th>DDX47</th>\n",
       "      <th>POMZP3</th>\n",
       "      <th>SDS</th>\n",
       "      <th>TENM1</th>\n",
       "      <th>CYP4F2</th>\n",
       "      <th>PPP6R1</th>\n",
       "      <th>BATF3</th>\n",
       "      <th>OR8D4</th>\n",
       "    </tr>\n",
       "  </thead>\n",
       "  <tbody>\n",
       "    <tr>\n",
       "      <th>0</th>\n",
       "      <td>2.367912</td>\n",
       "      <td>0.698684</td>\n",
       "      <td>3.931116</td>\n",
       "      <td>0.000000</td>\n",
       "      <td>116.288461</td>\n",
       "      <td>13.839265</td>\n",
       "      <td>0.021383</td>\n",
       "      <td>14.722173</td>\n",
       "      <td>5.437620</td>\n",
       "      <td>0.124913</td>\n",
       "      <td>...</td>\n",
       "      <td>0.000000</td>\n",
       "      <td>1.199607</td>\n",
       "      <td>0.101155</td>\n",
       "      <td>1.428458</td>\n",
       "      <td>2.471339</td>\n",
       "      <td>0.042357</td>\n",
       "      <td>44.610061</td>\n",
       "      <td>6.394772</td>\n",
       "      <td>0.281878</td>\n",
       "      <td>0.0</td>\n",
       "    </tr>\n",
       "    <tr>\n",
       "      <th>1</th>\n",
       "      <td>26.299800</td>\n",
       "      <td>2.498500</td>\n",
       "      <td>0.255600</td>\n",
       "      <td>14.944300</td>\n",
       "      <td>2.049600</td>\n",
       "      <td>3.262300</td>\n",
       "      <td>0.146400</td>\n",
       "      <td>14.132900</td>\n",
       "      <td>3.323600</td>\n",
       "      <td>0.014800</td>\n",
       "      <td>...</td>\n",
       "      <td>0.000000</td>\n",
       "      <td>0.000000</td>\n",
       "      <td>0.000000</td>\n",
       "      <td>0.000000</td>\n",
       "      <td>0.000000</td>\n",
       "      <td>0.000000</td>\n",
       "      <td>0.000000</td>\n",
       "      <td>0.000000</td>\n",
       "      <td>0.000000</td>\n",
       "      <td>0.0</td>\n",
       "    </tr>\n",
       "    <tr>\n",
       "      <th>2</th>\n",
       "      <td>5.592506</td>\n",
       "      <td>2.953563</td>\n",
       "      <td>7.065690</td>\n",
       "      <td>0.012499</td>\n",
       "      <td>325.521932</td>\n",
       "      <td>22.144552</td>\n",
       "      <td>0.356845</td>\n",
       "      <td>28.899361</td>\n",
       "      <td>6.717593</td>\n",
       "      <td>1.759132</td>\n",
       "      <td>...</td>\n",
       "      <td>0.030674</td>\n",
       "      <td>2.062158</td>\n",
       "      <td>0.185503</td>\n",
       "      <td>8.414909</td>\n",
       "      <td>2.690346</td>\n",
       "      <td>0.688731</td>\n",
       "      <td>0.260365</td>\n",
       "      <td>9.792451</td>\n",
       "      <td>1.671371</td>\n",
       "      <td>0.0</td>\n",
       "    </tr>\n",
       "    <tr>\n",
       "      <th>3</th>\n",
       "      <td>21.554200</td>\n",
       "      <td>1.334700</td>\n",
       "      <td>1.095300</td>\n",
       "      <td>23.476800</td>\n",
       "      <td>8.741300</td>\n",
       "      <td>11.491700</td>\n",
       "      <td>0.945500</td>\n",
       "      <td>32.975700</td>\n",
       "      <td>6.187900</td>\n",
       "      <td>42.428300</td>\n",
       "      <td>...</td>\n",
       "      <td>0.000000</td>\n",
       "      <td>0.000000</td>\n",
       "      <td>0.000000</td>\n",
       "      <td>0.000000</td>\n",
       "      <td>0.000000</td>\n",
       "      <td>0.000000</td>\n",
       "      <td>0.000000</td>\n",
       "      <td>0.000000</td>\n",
       "      <td>0.000000</td>\n",
       "      <td>0.0</td>\n",
       "    </tr>\n",
       "    <tr>\n",
       "      <th>4</th>\n",
       "      <td>22.820100</td>\n",
       "      <td>2.640900</td>\n",
       "      <td>3.750800</td>\n",
       "      <td>29.774900</td>\n",
       "      <td>7.595200</td>\n",
       "      <td>15.186900</td>\n",
       "      <td>0.482000</td>\n",
       "      <td>19.233800</td>\n",
       "      <td>8.741800</td>\n",
       "      <td>1.025000</td>\n",
       "      <td>...</td>\n",
       "      <td>0.000000</td>\n",
       "      <td>0.000000</td>\n",
       "      <td>0.000000</td>\n",
       "      <td>0.000000</td>\n",
       "      <td>0.000000</td>\n",
       "      <td>0.000000</td>\n",
       "      <td>0.000000</td>\n",
       "      <td>0.000000</td>\n",
       "      <td>0.000000</td>\n",
       "      <td>0.0</td>\n",
       "    </tr>\n",
       "  </tbody>\n",
       "</table>\n",
       "<p>5 rows × 19102 columns</p>\n",
       "</div>"
      ],
      "text/plain": [
       "       RAB4B     TIGAR     RNF44      DNAH3      RPL23A      ARL8B     CALB2  \\\n",
       "0   2.367912  0.698684  3.931116   0.000000  116.288461  13.839265  0.021383   \n",
       "1  26.299800  2.498500  0.255600  14.944300    2.049600   3.262300  0.146400   \n",
       "2   5.592506  2.953563  7.065690   0.012499  325.521932  22.144552  0.356845   \n",
       "3  21.554200  1.334700  1.095300  23.476800    8.741300  11.491700  0.945500   \n",
       "4  22.820100  2.640900  3.750800  29.774900    7.595200  15.186900  0.482000   \n",
       "\n",
       "       MFSD3      PIGV     ZNF708  ...   SLCO4C1  ARHGAP21     DDX47  \\\n",
       "0  14.722173  5.437620   0.124913  ...  0.000000  1.199607  0.101155   \n",
       "1  14.132900  3.323600   0.014800  ...  0.000000  0.000000  0.000000   \n",
       "2  28.899361  6.717593   1.759132  ...  0.030674  2.062158  0.185503   \n",
       "3  32.975700  6.187900  42.428300  ...  0.000000  0.000000  0.000000   \n",
       "4  19.233800  8.741800   1.025000  ...  0.000000  0.000000  0.000000   \n",
       "\n",
       "     POMZP3       SDS     TENM1     CYP4F2    PPP6R1     BATF3  OR8D4  \n",
       "0  1.428458  2.471339  0.042357  44.610061  6.394772  0.281878    0.0  \n",
       "1  0.000000  0.000000  0.000000   0.000000  0.000000  0.000000    0.0  \n",
       "2  8.414909  2.690346  0.688731   0.260365  9.792451  1.671371    0.0  \n",
       "3  0.000000  0.000000  0.000000   0.000000  0.000000  0.000000    0.0  \n",
       "4  0.000000  0.000000  0.000000   0.000000  0.000000  0.000000    0.0  \n",
       "\n",
       "[5 rows x 19102 columns]"
      ]
     },
     "execution_count": 16,
     "metadata": {},
     "output_type": "execute_result"
    }
   ],
   "source": [
    "df.head() # X"
   ]
  },
  {
   "cell_type": "markdown",
   "metadata": {},
   "source": [
    "### Train-Test Split"
   ]
  },
  {
   "cell_type": "code",
   "execution_count": 18,
   "metadata": {},
   "outputs": [
    {
     "data": {
      "text/plain": [
       "((12772, 19102), (3193, 19102), (12772, 34), (3193, 34))"
      ]
     },
     "execution_count": 18,
     "metadata": {},
     "output_type": "execute_result"
    }
   ],
   "source": [
    "X_train, X_test, y_train, y_test = train_test_split(df, Y, test_size = 0.2, random_state = 42)\n",
    "X_train.shape, X_test.shape, y_train.shape, y_test.shape"
   ]
  },
  {
   "cell_type": "markdown",
   "metadata": {},
   "source": [
    "Faced MemoryError while standardizing this so doing these steps  \n",
    "- reset df variable from memory\n",
    "- save backup for splitted data"
   ]
  },
  {
   "cell_type": "code",
   "execution_count": 19,
   "metadata": {},
   "outputs": [
    {
     "name": "stdout",
     "output_type": "stream",
     "text": [
      "df 2382.5268984375 MB\n",
      "labels 1.0501748046875 MB\n",
      "X_train 1906.1212421875 MB\n",
      "X_test 476.530328125 MB\n",
      "y_train 1.696390625 MB\n"
     ]
    }
   ],
   "source": [
    "# Variables in memory that's hogging the memories greater than 1MB.\n",
    "local_vars = list(locals().items())\n",
    "for var, obj in local_vars:\n",
    "    size = sys.getsizeof(obj)/1000\n",
    "    if size > 1024:\n",
    "        print(var, size/1024,\"MB\")\n",
    "\n",
    "# df 2439707.544 KB # Evenif the memory was just 2.4GB, it was giving issues occassionally.\n",
    "# labels 1075.379 KB\n",
    "# X_train 1951868.152 KB\n",
    "# X_test 487967.056 KB\n",
    "# y_train 1737.104 KB\n"
   ]
  },
  {
   "cell_type": "code",
   "execution_count": null,
   "metadata": {},
   "outputs": [],
   "source": [
    "%reset_selective -f \"^df$\"  # Releasing memory of df variable"
   ]
  },
  {
   "cell_type": "markdown",
   "metadata": {},
   "source": [
    "### Feature Scaling "
   ]
  },
  {
   "cell_type": "code",
   "execution_count": 20,
   "metadata": {},
   "outputs": [
    {
     "data": {
      "text/plain": [
       "(3193, 19102)"
      ]
     },
     "execution_count": 20,
     "metadata": {},
     "output_type": "execute_result"
    }
   ],
   "source": [
    "from sklearn.preprocessing import StandardScaler\n",
    "\n",
    "scaler = StandardScaler()\n",
    "X_train = scaler.fit_transform(X_train)\n",
    "X_test = scaler.transform(X_test) \n",
    "X_test.shape"
   ]
  },
  {
   "cell_type": "code",
   "execution_count": 21,
   "metadata": {},
   "outputs": [],
   "source": [
    "filename = \"../data/load/scaled_splitted_data.npz\"\n",
    "# filename = \"../data/splitted_data_X_train.npz\""
   ]
  },
  {
   "cell_type": "code",
   "execution_count": 24,
   "metadata": {},
   "outputs": [
    {
     "name": "stdout",
     "output_type": "stream",
     "text": [
      "../data/load/scaled_splitted_data.npzData saved..\n"
     ]
    }
   ],
   "source": [
    "np.savez_compressed(filename, X_train=X_train, X_test=X_test, y_train=y_train, y_test=y_test)\n",
    "print(f\"{filename} Data saved..\")"
   ]
  },
  {
   "cell_type": "markdown",
   "metadata": {},
   "source": [
    "Load the splitted variables for next step.\n",
    "Just Run this below to load them and start experimentation later."
   ]
  },
  {
   "cell_type": "code",
   "execution_count": null,
   "metadata": {},
   "outputs": [],
   "source": [
    "a = np.load(filename)"
   ]
  },
  {
   "cell_type": "code",
   "execution_count": null,
   "metadata": {},
   "outputs": [],
   "source": [
    "X_train, X_test, y_train, y_test = a[\"X_train\"], a[\"X_test\"], a[\"y_train\"], a[\"y_test\"]\n",
    "X_train.shape, X_test.shape, y_train.shape, y_test.shape"
   ]
  },
  {
   "cell_type": "markdown",
   "metadata": {},
   "source": [
    "### Model Definition"
   ]
  },
  {
   "cell_type": "code",
   "execution_count": 25,
   "metadata": {},
   "outputs": [
    {
     "name": "stdout",
     "output_type": "stream",
     "text": [
      "Model: \"sequential_1\"\n",
      "_________________________________________________________________\n",
      "Layer (type)                 Output Shape              Param #   \n",
      "=================================================================\n",
      "dense_1 (Dense)              (None, 1024)              19561472  \n",
      "_________________________________________________________________\n",
      "dense_2 (Dense)              (None, 512)               524800    \n",
      "_________________________________________________________________\n",
      "dense_3 (Dense)              (None, 128)               65664     \n",
      "_________________________________________________________________\n",
      "dense_4 (Dense)              (None, 34)                4386      \n",
      "=================================================================\n",
      "Total params: 20,156,322\n",
      "Trainable params: 20,156,322\n",
      "Non-trainable params: 0\n",
      "_________________________________________________________________\n"
     ]
    }
   ],
   "source": [
    "model = Sequential()\n",
    "model.add(Dense(1024, activation=\"relu\", input_dim = X_train.shape[1]))\n",
    "model.add(Dense(512, activation=\"relu\"))\n",
    "model.add(Dense(128, activation=\"relu\"))\n",
    "model.add(Dense(y_train.shape[1], activation=\"softmax\"))\n",
    "\n",
    "model.compile(loss=\"categorical_crossentropy\", optimizer=\"adam\", metrics=['categorical_crossentropy','accuracy'])\n",
    "model.summary()"
   ]
  },
  {
   "cell_type": "markdown",
   "metadata": {},
   "source": [
    "## Training"
   ]
  },
  {
   "cell_type": "code",
   "execution_count": 26,
   "metadata": {},
   "outputs": [],
   "source": [
    "checkpoint_path = \"out/vanilla/cp.ckpt\"\n",
    "checkpoint_dir = os.path.dirname(checkpoint_path)\n",
    "\n",
    "# Create a callback that saves the model's weights\n",
    "cp_callback = keras.callbacks.ModelCheckpoint(filepath=checkpoint_path,\n",
    "                                                 save_weights_only=True,\n",
    "                                                 verbose=1)"
   ]
  },
  {
   "cell_type": "code",
   "execution_count": 27,
   "metadata": {},
   "outputs": [
    {
     "name": "stdout",
     "output_type": "stream",
     "text": [
      "Train on 12772 samples, validate on 3193 samples\n",
      "Epoch 1/20\n",
      "12772/12772 [==============================] - 15s 1ms/step - loss: 0.9205 - categorical_crossentropy: 0.9205 - accuracy: 0.8483 - val_loss: 0.4245 - val_categorical_crossentropy: 0.4245 - val_accuracy: 0.9167\n",
      "\n",
      "Epoch 00001: saving model to out/vanilla/cp.ckpt\n",
      "Epoch 2/20\n",
      "12772/12772 [==============================] - 15s 1ms/step - loss: 0.3149 - categorical_crossentropy: 0.3149 - accuracy: 0.9231 - val_loss: 0.4185 - val_categorical_crossentropy: 0.4185 - val_accuracy: 0.9151\n",
      "\n",
      "Epoch 00002: saving model to out/vanilla/cp.ckpt\n",
      "Epoch 3/20\n",
      "12772/12772 [==============================] - 15s 1ms/step - loss: 0.2291 - categorical_crossentropy: 0.2291 - accuracy: 0.9399 - val_loss: 0.3651 - val_categorical_crossentropy: 0.3651 - val_accuracy: 0.9308\n",
      "\n",
      "Epoch 00003: saving model to out/vanilla/cp.ckpt\n",
      "Epoch 4/20\n",
      "12772/12772 [==============================] - 15s 1ms/step - loss: 0.2123 - categorical_crossentropy: 0.2123 - accuracy: 0.9437 - val_loss: 0.5502 - val_categorical_crossentropy: 0.5502 - val_accuracy: 0.9067\n",
      "\n",
      "Epoch 00004: saving model to out/vanilla/cp.ckpt\n",
      "Epoch 5/20\n",
      "12772/12772 [==============================] - 15s 1ms/step - loss: 0.1995 - categorical_crossentropy: 0.1995 - accuracy: 0.9488 - val_loss: 0.4186 - val_categorical_crossentropy: 0.4186 - val_accuracy: 0.9358\n",
      "\n",
      "Epoch 00005: saving model to out/vanilla/cp.ckpt\n",
      "Epoch 6/20\n",
      "12772/12772 [==============================] - 15s 1ms/step - loss: 0.1725 - categorical_crossentropy: 0.1725 - accuracy: 0.9529 - val_loss: 0.3889 - val_categorical_crossentropy: 0.3889 - val_accuracy: 0.9383\n",
      "\n",
      "Epoch 00006: saving model to out/vanilla/cp.ckpt\n",
      "Epoch 7/20\n",
      "12772/12772 [==============================] - 15s 1ms/step - loss: 0.1476 - categorical_crossentropy: 0.1476 - accuracy: 0.9606 - val_loss: 0.4700 - val_categorical_crossentropy: 0.4700 - val_accuracy: 0.9089\n",
      "\n",
      "Epoch 00007: saving model to out/vanilla/cp.ckpt\n",
      "Epoch 8/20\n",
      "12772/12772 [==============================] - 16s 1ms/step - loss: 0.1803 - categorical_crossentropy: 0.1803 - accuracy: 0.9542 - val_loss: 0.6958 - val_categorical_crossentropy: 0.6958 - val_accuracy: 0.8988\n",
      "\n",
      "Epoch 00008: saving model to out/vanilla/cp.ckpt\n",
      "Epoch 9/20\n",
      "12772/12772 [==============================] - 16s 1ms/step - loss: 0.3276 - categorical_crossentropy: 0.3276 - accuracy: 0.9353 - val_loss: 0.5692 - val_categorical_crossentropy: 0.5692 - val_accuracy: 0.9064\n",
      "\n",
      "Epoch 00009: saving model to out/vanilla/cp.ckpt\n",
      "Epoch 10/20\n",
      "12772/12772 [==============================] - 16s 1ms/step - loss: 0.2605 - categorical_crossentropy: 0.2605 - accuracy: 0.9448 - val_loss: 0.4176 - val_categorical_crossentropy: 0.4176 - val_accuracy: 0.9430\n",
      "\n",
      "Epoch 00010: saving model to out/vanilla/cp.ckpt\n",
      "Epoch 11/20\n",
      "12772/12772 [==============================] - 16s 1ms/step - loss: 0.1356 - categorical_crossentropy: 0.1356 - accuracy: 0.9630 - val_loss: 0.4339 - val_categorical_crossentropy: 0.4339 - val_accuracy: 0.9336\n",
      "\n",
      "Epoch 00011: saving model to out/vanilla/cp.ckpt\n",
      "Epoch 12/20\n",
      "12772/12772 [==============================] - 16s 1ms/step - loss: 0.1138 - categorical_crossentropy: 0.1138 - accuracy: 0.9683 - val_loss: 0.5013 - val_categorical_crossentropy: 0.5013 - val_accuracy: 0.9092\n",
      "\n",
      "Epoch 00012: saving model to out/vanilla/cp.ckpt\n",
      "Epoch 13/20\n",
      "12772/12772 [==============================] - 16s 1ms/step - loss: 0.1714 - categorical_crossentropy: 0.1714 - accuracy: 0.9565 - val_loss: 0.4783 - val_categorical_crossentropy: 0.4783 - val_accuracy: 0.9298\n",
      "\n",
      "Epoch 00013: saving model to out/vanilla/cp.ckpt\n",
      "Epoch 14/20\n",
      "12772/12772 [==============================] - 16s 1ms/step - loss: 0.1692 - categorical_crossentropy: 0.1692 - accuracy: 0.9597 - val_loss: 0.6240 - val_categorical_crossentropy: 0.6240 - val_accuracy: 0.9139\n",
      "\n",
      "Epoch 00014: saving model to out/vanilla/cp.ckpt\n",
      "Epoch 15/20\n",
      "12772/12772 [==============================] - 17s 1ms/step - loss: 0.1643 - categorical_crossentropy: 0.1643 - accuracy: 0.9619 - val_loss: 0.5254 - val_categorical_crossentropy: 0.5254 - val_accuracy: 0.9305\n",
      "\n",
      "Epoch 00015: saving model to out/vanilla/cp.ckpt\n",
      "Epoch 16/20\n",
      "12772/12772 [==============================] - 20s 2ms/step - loss: 0.1519 - categorical_crossentropy: 0.1519 - accuracy: 0.9628 - val_loss: 0.5247 - val_categorical_crossentropy: 0.5247 - val_accuracy: 0.9358\n",
      "\n",
      "Epoch 00016: saving model to out/vanilla/cp.ckpt\n",
      "Epoch 17/20\n",
      "12772/12772 [==============================] - 25s 2ms/step - loss: 0.1689 - categorical_crossentropy: 0.1689 - accuracy: 0.9616 - val_loss: 0.9001 - val_categorical_crossentropy: 0.9001 - val_accuracy: 0.9183\n",
      "\n",
      "Epoch 00017: saving model to out/vanilla/cp.ckpt\n",
      "Epoch 18/20\n",
      "12772/12772 [==============================] - 25s 2ms/step - loss: 0.2463 - categorical_crossentropy: 0.2463 - accuracy: 0.9442 - val_loss: 0.7151 - val_categorical_crossentropy: 0.7151 - val_accuracy: 0.9280\n",
      "\n",
      "Epoch 00018: saving model to out/vanilla/cp.ckpt\n",
      "Epoch 19/20\n",
      "12772/12772 [==============================] - 22s 2ms/step - loss: 0.1515 - categorical_crossentropy: 0.1515 - accuracy: 0.9655 - val_loss: 0.7072 - val_categorical_crossentropy: 0.7072 - val_accuracy: 0.9280\n",
      "\n",
      "Epoch 00019: saving model to out/vanilla/cp.ckpt\n",
      "Epoch 20/20\n",
      "12772/12772 [==============================] - 24s 2ms/step - loss: 0.1460 - categorical_crossentropy: 0.1460 - accuracy: 0.9688 - val_loss: 0.7517 - val_categorical_crossentropy: 0.7517 - val_accuracy: 0.9352\n",
      "\n",
      "Epoch 00020: saving model to out/vanilla/cp.ckpt\n"
     ]
    }
   ],
   "source": [
    "history = model.fit(X_train, y_train, \n",
    "                    validation_data=(X_test, y_test), \n",
    "                    verbose=1, \n",
    "                    epochs=20, \n",
    "                    shuffle=True,\n",
    "                    callbacks = [cp_callback])"
   ]
  },
  {
   "cell_type": "markdown",
   "metadata": {},
   "source": [
    "## Evaluating with Validation set"
   ]
  },
  {
   "cell_type": "code",
   "execution_count": 30,
   "metadata": {},
   "outputs": [
    {
     "name": "stdout",
     "output_type": "stream",
     "text": [
      "Predicted labels:  [19  4  6 33 10 12 11  5 11  4]\n",
      "True labels:  [19  4  6 15 10 12 11  5 11  4]\n",
      "real:preds\n",
      " {'Ovarian': 'Ovarian', 'Brain': 'Brain', 'Cervix': 'Cervix', 'Lymph': 'none', 'Head': 'Head', 'Leukemia': 'Leukemia', 'Kidney': 'Kidney', 'Breast': 'Breast'}\n"
     ]
    }
   ],
   "source": [
    "predicted_valid_labels = np.argmax(model.predict(X_test), axis=1)\n",
    "valid_labels = np.argmax(y_test, axis=1)\n",
    "\n",
    "test_range = range(10)\n",
    "print(\"Predicted labels: \", predicted_valid_labels[test_range])\n",
    "print(\"True labels: \", valid_labels[test_range])\n",
    "\n",
    "real = label_encoder.inverse_transform(valid_labels[test_range])\n",
    "predicts = label_encoder.inverse_transform(predicted_valid_labels[test_range])\n",
    "print(\"real:preds\\n\",{real[i]:predicts[i] for i in test_range})"
   ]
  },
  {
   "cell_type": "code",
   "execution_count": 31,
   "metadata": {},
   "outputs": [
    {
     "data": {
      "image/png": "[encoded data removed]",
      "text/plain": [
       "<Figure size 1440x1440 with 2 Axes>"
      ]
     },
     "metadata": {
      "needs_background": "light"
     },
     "output_type": "display_data"
    }
   ],
   "source": [
    "# Visualization of Confusion Matrix\n",
    "import seaborn as sns\n",
    "\n",
    "cm = metrics.confusion_matrix(valid_labels, predicted_valid_labels)\n",
    "# print(cm)\n",
    "cm_normalized = cm.astype('float') / cm.sum(axis=1)[:, np.newaxis]\n",
    "\n",
    "plt.figure(figsize=(20,20))\n",
    "sns.heatmap(cm_normalized, annot=True, fmt=\".4f\", linewidths=.5, square = True, cmap = 'summer')\n",
    "plt.xlabel('Predicted Values', size=20)\n",
    "plt.ylabel('Actual Values', size=20)\n",
    "\n",
    "ticks = np.arange(len(set(valid_labels)))\n",
    "tick_marks = ['Adrenal', 'Bile', 'Bladder', 'Bone', 'Brain', 'Breast', 'Cervix',\n",
    "       'Colon', 'Esophagus', 'Fallopian', 'Head', 'Kidney', 'Leukemia',\n",
    "       'Liver', 'Lung', 'Lymph', 'Mediastinum', 'Nervous', 'Ocular',\n",
    "       'Ovarian', 'Pancreas', 'Pelvis', 'Peritoneum', 'Pleura',\n",
    "       'Prostate', 'Rectum', 'Sarcoma', 'Skin', 'Stomach', 'Testis',\n",
    "       'Thymus', 'Thyroid', 'Uterus', 'none']\n",
    "\n",
    "plt.xticks(ticks+0.5 ,tick_marks, rotation=90, size=12) #add 0.5 to ticks to position it at center\n",
    "plt.yticks(ticks+0.5 ,tick_marks, rotation=0, size=12)\n",
    "# all_sample_title = 'Accuracy Score: {:.4f}'.format(93) # hardcoded this from training logs for now :D\n",
    "# plt.title(all_sample_title, size = 30)\n",
    "plt.show()"
   ]
  },
  {
   "cell_type": "code",
   "execution_count": null,
   "metadata": {},
   "outputs": [],
   "source": []
  }
 ],
 "metadata": {
  "kernelspec": {
   "display_name": "Python 3",
   "language": "python",
   "name": "python3"
  },
  "language_info": {
   "codemirror_mode": {
    "name": "ipython",
    "version": 3
   },
   "file_extension": ".py",
   "mimetype": "text/x-python",
   "name": "python",
   "nbconvert_exporter": "python",
   "pygments_lexer": "ipython3",
   "version": "3.7.3"
  }
 },
 "nbformat": 4,
 "nbformat_minor": 2
}
